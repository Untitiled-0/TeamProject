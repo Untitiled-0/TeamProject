{
  "nbformat": 4,
  "nbformat_minor": 0,
  "metadata": {
    "colab": {
      "name": "colabwecam.ipynb",
      "provenance": [],
      "collapsed_sections": [],
      "authorship_tag": "ABX9TyN7BPrs0cvn5xXy72rtlmUo",
      "include_colab_link": true
    },
    "kernelspec": {
      "name": "python3",
      "display_name": "Python 3"
    },
    "language_info": {
      "name": "python"
    }
  },
  "cells": [
    {
      "cell_type": "markdown",
      "metadata": {
        "id": "view-in-github",
        "colab_type": "text"
      },
      "source": [
        "<a href=\"https://colab.research.google.com/github/Untitiled-0/TeamProject/blob/main/colabwecam.ipynb\" target=\"_parent\"><img src=\"https://colab.research.google.com/assets/colab-badge.svg\" alt=\"Open In Colab\"/></a>"
      ]
    },
    {
      "cell_type": "code",
      "execution_count": null,
      "metadata": {
        "id": "foWaaT0H2exI"
      },
      "outputs": [],
      "source": [
        "from IPyhon.display import display, Javascipt\n",
        "from google.colab.output import eval_js\n",
        "from base64 import b64decode"
      ]
    },
    {
      "cell_type": "code",
      "source": [
        "def take_photo(filename='photo.jpg', quality=0.8):\n",
        "  js = Javascript(\"\n",
        "  async function takePhot(quality) {\n",
        "  \n",
        "  const div = document.createElement('div');\n",
        "  \n",
        "  const capture = document.createElement('div');\n",
        "  capture.textContent = 'Capture';\n",
        "  div.appendChild(capture);\n",
        "\n",
        "  const video = document.createElement('video');\n",
        "\n",
        "  video.style.display='block';\n",
        "\n",
        "  const strame = await navigator.mediaDevices.getUserMedia({videp:true});\n",
        "\n",
        "  document.body.appendChild(div);\n",
        "  div.appendChild(video);\n",
        "  video.srcObject=strame;\n",
        "\n",
        "  await video.play();\n",
        "\n",
        "  google.colab.output.setlframeHeight(document.documentElement.scrollHeight, true);\n",
        "\n",
        "  await new Prmise((resolve) => capture.onclick =.resolve);\n",
        "\n",
        "  const canvas = document.createElement('canvas');\n",
        "\n",
        "  canvas.width = video.videoWidth;\n",
        "  canvas.height = video.videoHeight;\n",
        "\n",
        "  canvas.getContext('2d').drawImage(video, 0, 0);\n",
        "\n",
        "  strame.getVideoTracks()[0].stop();\n",
        "\n",
        "  div.remove();\n",
        "\n",
        "  return canvas.toDataURL('image/jpeg',quality);\n",
        "  }\n",
        "  \")\n",
        "\n",
        "display(js)\n",
        "\n",
        "data = eval_js('takePhoto({})'.format(quality))\n",
        "\n",
        "binary = b64decode(data.split(',')[1])\n",
        "with open"
      ],
      "metadata": {
        "id": "BO4YgXB82tbU"
      },
      "execution_count": null,
      "outputs": []
    }
  ]
}